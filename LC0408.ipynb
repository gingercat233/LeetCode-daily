{
 "cells": [
  {
   "cell_type": "markdown",
   "metadata": {},
   "source": [
    "# 每日一题 0408"
   ]
  },
  {
   "cell_type": "markdown",
   "metadata": {},
   "source": [
    "地上有一个m行n列的方格，从坐标 [0,0] 到坐标 [m-1,n-1] 。一个机器人从坐标 [0, 0] 的格子开始移动，它每次可以向左、右、上、下移动一格（不能移动到方格外），也不能进入行坐标和列坐标的数位之和大于k的格子。例如，当k为18时，机器人能够进入方格 [35, 37] ，因为3+5+3+7=18。但它不能进入方格 [35, 38]，因为3+5+3+8=19。请问该机器人能够到达多少个格子？\n",
    "\n",
    "### 示例 1：\n",
    "\n",
    "输入：m = 2, n = 3, k = 1\n",
    "输出：3\n",
    "\n",
    "### 示例 1：\n",
    "\n",
    "输入：m = 3, n = 1, k = 0\n",
    "输出：1\n",
    "\n",
    "#### 提示：\n",
    "\n",
    "    1 <= n,m <= 100\n",
    "    0 <= k <= 20"
   ]
  },
  {
   "cell_type": "markdown",
   "metadata": {},
   "source": [
    "### 我的愚蠢的解法\n",
    "\n",
    "- 上手直接想到暴力，mxn范围内数位之和不大于k的所有格子之和。\n",
    "    - 两次循环遍历，时间复杂度O(mn)；\n",
    "    - 借助个别辅助变量，空间复杂度O(1)。"
   ]
  },
  {
   "cell_type": "code",
   "execution_count": null,
   "metadata": {},
   "outputs": [],
   "source": [
    "class Solution:\n",
    "    def movingCount(self, m: int, n: int, k: int) -> int:\n",
    "        ans = 0\n",
    "        for i in range(m):\n",
    "            m_10, m_1 = i//10, i%10\n",
    "            for j in range(n):\n",
    "                n_10, n_1 = j//10, j%10\n",
    "                if m_10 + m_1 + n_10 + n_1 <= k:\n",
    "                    ans += 1\n",
    "                    print(i,j,ans)\n",
    "        return ans"
   ]
  },
  {
   "cell_type": "markdown",
   "metadata": {},
   "source": [
    "### 未通过\n",
    "- 16,8,4 -> 15，但我的答案是25，偏大\n",
    "- 原因：机器人每次只能移动一格，不能跳；故我的方法实际会多计数。"
   ]
  },
  {
   "cell_type": "markdown",
   "metadata": {},
   "source": [
    "### 参考官方BFS解法"
   ]
  },
  {
   "cell_type": "code",
   "execution_count": 23,
   "metadata": {},
   "outputs": [
    {
     "name": "stdout",
     "output_type": "stream",
     "text": [
      "15\n"
     ]
    }
   ],
   "source": [
    "class Solution:\n",
    "    def movingCount(self, m: int, n: int, k: int) -> int:\n",
    "        from queue import Queue\n",
    "        q = Queue()\n",
    "        q.put((0, 0))\n",
    "        s = set()\n",
    "        while not q.empty():\n",
    "            x, y = q.get()\n",
    "            if (x, y) not in s and 0 <= x < m and 0 <= y < n and x//10+x%10+y//10+y%10 <= k:\n",
    "                s.add((x, y))\n",
    "                q.put((x+1, y))\n",
    "                q.put((x, y+1))\n",
    "        return len(s)\n",
    "    \n",
    "if __name__ == '__main__':\n",
    "    s = Solution()\n",
    "    print(s.movingCount(16,8,4))"
   ]
  },
  {
   "cell_type": "markdown",
   "metadata": {},
   "source": [
    "### 踩了个坑\n",
    "- 官方"
   ]
  },
  {
   "cell_type": "code",
   "execution_count": null,
   "metadata": {},
   "outputs": [],
   "source": [
    "for nx, ny in [(x + 1, y), (x, y + 1)]:\n",
    "    q.put((nx, ny))\n"
   ]
  },
  {
   "cell_type": "markdown",
   "metadata": {},
   "source": [
    "- 我一开始的写法"
   ]
  },
  {
   "cell_type": "code",
   "execution_count": null,
   "metadata": {},
   "outputs": [],
   "source": [
    "q.put((x+1, y), (x, y+1))"
   ]
  },
  {
   "cell_type": "markdown",
   "metadata": {},
   "source": [
    "    - 发现只有前一项会入队\n",
    "- 我修改后的写法"
   ]
  },
  {
   "cell_type": "code",
   "execution_count": null,
   "metadata": {},
   "outputs": [],
   "source": [
    "q.put((x+1, y))\n",
    "q.put((x, y+1))"
   ]
  },
  {
   "cell_type": "markdown",
   "metadata": {},
   "source": [
    "- 执行用时 :224 ms, 在所有 Python3 提交中击败了7.52% 的用户（太惨惹...\n",
    "- 内存消耗 :13.9 MB, 在所有 Python3 提交中击败了100.00%的用户"
   ]
  }
 ],
 "metadata": {
  "kernelspec": {
   "display_name": "Python 3",
   "language": "python",
   "name": "python3"
  },
  "language_info": {
   "codemirror_mode": {
    "name": "ipython",
    "version": 3
   },
   "file_extension": ".py",
   "mimetype": "text/x-python",
   "name": "python",
   "nbconvert_exporter": "python",
   "pygments_lexer": "ipython3",
   "version": "3.7.6"
  }
 },
 "nbformat": 4,
 "nbformat_minor": 2
}
